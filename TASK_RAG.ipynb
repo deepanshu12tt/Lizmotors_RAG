{
 "cells": [
  {
   "cell_type": "code",
   "execution_count": 24,
   "id": "f61c7fb8",
   "metadata": {},
   "outputs": [],
   "source": [
    "import requests\n",
    "from bs4 import BeautifulSoup\n",
    "import pandas as pd\n",
    "from sklearn.feature_extraction.text import TfidfVectorizer\n",
    "from sklearn.metrics.pairwise import cosine_similarity"
   ]
  },
  {
   "cell_type": "code",
   "execution_count": 25,
   "id": "0fb93228",
   "metadata": {},
   "outputs": [],
   "source": [
    "links=[\n",
    "    \"https://data.who.int/dashboards/covid19/vaccines?n=c\",\n",
    "    \"https://health.google.com/covid-19/open-data/\",\n",
    "    \"https://www.ecdc.europa.eu/en/covid-19/data\"\n",
    "]\n"
   ]
  },
  {
   "cell_type": "code",
   "execution_count": 26,
   "id": "d07d7f5a",
   "metadata": {},
   "outputs": [],
   "source": [
    "data = []"
   ]
  },
  {
   "cell_type": "code",
   "execution_count": 27,
   "id": "e1ee7ea9",
   "metadata": {},
   "outputs": [
    {
     "name": "stdout",
     "output_type": "stream",
     "text": [
      "Extracted text from https://data.who.int/dashboards/covid19/vaccines?n=c : WHO Health Emergencies Programme \n",
      "Source: World Health Organization \n",
      "Source: World Health Organization \n",
      "Changes in population due to migration, birth or death may not be accurately reflected in latest population estimates. If a country has seen increasing migration trends or if a national population statistic is lower than the count recorded in statistical calculations, it can result in a vaccination coverage percentage greater than 100%.\n",
      " Changes in population due to migration, birth or death may not be accurately reflected in latest population estimates. If a country has seen increasing migration trends or if a national population statistic is lower than the count recorded in statistical calculations, it can result in a vaccination coverage percentage greater than 100%. Number of doses administered in a country, area, or territory, regardless of if they have been administered as part of a primary series or as booster/additional doses. COVID-19 vaccination data are collected via WHO regional office-specific systems for monitoring COVID-19 vaccination uptake. These data are pooled from numerous sources, including direct reports from Member States, WHO review of publicly available official data, or data collected and published by third-party sites. Data published by third-party sites have not been validated by WHO, and WHO cannot comment on accuracy or completeness. Differences in counts may occur compared to other sources, due to different inclusion criteria and data cut-off times. Estimated populations and projections are drawn from: *Total population for France has been adjusted to account for the following overseas territories (French Guiana, Guadeloupe, Martinique, Mayotte, Réunion, Saint Martin). Where multiple vaccines are used in a country, are, or territory, the start date displayed is equivalent to start date of the first vaccine product introduced. Suspensions (temporary or otherwise) of vaccination rollout are not taken into\n",
      "consideration. The information contained in this dashboard does not in any way imply endorsement, certification, warranty of fitness, or recommendation by WHO of any company or of any vaccine or other product for any purpose and does not imply preference\n",
      "over vaccines or other products of a similar nature that are not mentioned. WHO furthermore does not warrant that the vaccines or other products listed are of acceptable quality, have obtained regulatory approval in any country, or\n",
      "that their use is otherwise in accordance with the national laws and regulations of any country, including but not limited to patent laws. The inclusion of vaccines or other products in these analyses and underlying datasets does not\n",
      "imply any approval by WHO of the vaccines or other products in question (which is the sole prerogative of national authorities). Attribution 4.0 International (CC BY 4.0) The World Health Organization (“WHO”) encourages public access and use of the data that it collects and publishes on its web site data.who.int. The data are organized in datasets and made available in machine-readable format\n",
      "(“Datasets”). The Datasets have been compiled from data provided by WHO’s Member States under the WHO policy on the use and sharing of data collected by WHO in Member States outside the context of public health emergencies. Use of the data derived from the Datasets, which may appear in formats such as tables and charts, is also subject to these Terms and Conditions. Datasets may include data describing the Dataset called “Metadata”. If any datasets\n",
      "are credited to a source other than WHO, then those materials are not covered by these Terms and Conditions, and permission should be sought from the source provided. You are responsible for determining if this is the case, and if\n",
      "so, you are responsible for obtaining any necessary permission from the sources indicated. The risk of claims resulting from infringement of any third-party-owned component in the materials rests solely with you. You may use our application programming interfaces (“APIs”) to facilitate access to the Datasets, whether through a separate web site or through another type of software application. By using the Datasets or any presentations\n",
      "of data derived from them, or by using our APIs in connection with the Datasets, you agree to be bound by these Terms and Conditions, as may be amended from time to time by WHO at its sole discretion. Unless specifically indicated otherwise, these Datasets are provided to you under a Creative Commons Attribution 4.0 International License (CC BY 4.0), with the additional terms below. The basic terms applicable to the CC BY 4.0 license\n",
      "may be accessed here. By downloading or using the Datasets, you agree to comply with the terms of the CC BY 4.0 license, as well as the following mandatory and binding addition: Any dispute relating to the interpretation or application of this license shall, unless amicably settled, be subject to conciliation. In the event of failure of the latter, the dispute shall be settled by arbitration. The arbitration shall\n",
      "be conducted in accordance with the modalities to be agreed upon by the parties or, in the absence of agreement, with the UNCITRAL Arbitration Rules. The parties shall accept the arbitral award as final. You shall not attempt to de-anonymise the Datasets or use the Datasets in a manner that falsifies or misrepresents their content. You shall not, in connection with your use of the Datasets published on data.who.int, state or imply that WHO endorses, or is affiliated with, you, or that WHO endorses your use of data.who.int, or any content, output, or analysis resulting\n",
      "from or related to the data.who.int, or any entity, organization, company, product or services. World Health Organization 2023 data.who.int, WHO Coronavirus (COVID-19) dashboard > Vaccines [Dashboard]. https://data.who.int/dashboards/covid19/vaccines WHO reserves the right at any time and from time to time to modify or discontinue, temporarily or permanently, the Datasets, or any means of accessing or utilizing the Datasets with or without prior notice to you. MapsThe designations employed and the presentation of the material in this publication do not imply the expression of any opinion whatsoever on the part of WHO concerning the legal status of any country, territory,\n",
      "city or area or of its authorities, or concerning the delimitation of its frontiers or boundaries. Dotted and dashed lines on maps represent approximate border lines for which there may not yet be full agreement. All references to Kosovo should be understood to be in the context of the United Nations Security Council resolution 1244 (1999). A dispute exists between the Governments of Argentina and the United Kingdom of Great Britain and Northern Ireland concerning sovereignty over the Falkland Islands (Malvinas). The mention of specific companies or of certain manufacturers’ products does not imply that they are endorsed or recommended by WHO in preference to others of a similar nature that are not mentioned. Errors and omissions excepted,\n",
      "the names of proprietary products are distinguished by initial capital letters. All reasonable precautions have been taken by WHO to verify the accuracy of the Datasets. However, the Datasets are being provided without warranty of any kind, either expressed or implied. You will be solely responsible for your use of\n",
      "the Datasets. In no event shall WHO be liable for any damages arising from such use. For full disclaimers, terms of use and your indemnification of WHO, please visit Terms and Conditions.\n",
      "Extracted text from https://health.google.com/covid-19/open-data/ : \n",
      "Extracted text from https://www.ecdc.europa.eu/en/covid-19/data : European Centre for Disease Prevention and Control\n",
      "                                   \n",
      "An agency of the European Union\n",
      " Data This following datasets contain data reported by EU/EEA Member States to the European Surveillance System (TESSy). ECDC has ceased to update these datasets.  Weekly data linked to ERVISS is available weekly on GitHub(link is external).  Data Data Data Data Data Data Data Data Data Data Data Data Data Data Data Data Data\n"
     ]
    }
   ],
   "source": [
    "for link in links:\n",
    "    try:\n",
    "        response = requests.get(link)\n",
    "        response.raise_for_status()  \n",
    "        soup = BeautifulSoup(response.content, 'html.parser')\n",
    "        text = \"\"\n",
    "        for paragraph in soup.find_all('p'):\n",
    "            text += paragraph.get_text() + \" \"\n",
    "        data.append(text.strip())\n",
    "        print(\"Extracted text from\", link, \":\", text.strip())\n",
    "    except Exception as e:\n",
    "        print(f\"Error processing {link}: {e}\")"
   ]
  },
  {
   "cell_type": "code",
   "execution_count": 28,
   "id": "37ca2141",
   "metadata": {},
   "outputs": [],
   "source": [
    "data = pd.DataFrame(data, columns=['text'])\n",
    "data.to_csv('Covid_data.csv', index=False)"
   ]
  },
  {
   "cell_type": "code",
   "execution_count": 29,
   "id": "e3ea692c",
   "metadata": {},
   "outputs": [
    {
     "data": {
      "text/html": [
       "<div>\n",
       "<style scoped>\n",
       "    .dataframe tbody tr th:only-of-type {\n",
       "        vertical-align: middle;\n",
       "    }\n",
       "\n",
       "    .dataframe tbody tr th {\n",
       "        vertical-align: top;\n",
       "    }\n",
       "\n",
       "    .dataframe thead th {\n",
       "        text-align: right;\n",
       "    }\n",
       "</style>\n",
       "<table border=\"1\" class=\"dataframe\">\n",
       "  <thead>\n",
       "    <tr style=\"text-align: right;\">\n",
       "      <th></th>\n",
       "      <th>text</th>\n",
       "    </tr>\n",
       "  </thead>\n",
       "  <tbody>\n",
       "    <tr>\n",
       "      <th>0</th>\n",
       "      <td>WHO Health Emergencies Programme \\nSource: Wor...</td>\n",
       "    </tr>\n",
       "    <tr>\n",
       "      <th>1</th>\n",
       "      <td></td>\n",
       "    </tr>\n",
       "    <tr>\n",
       "      <th>2</th>\n",
       "      <td>European Centre for Disease Prevention and Con...</td>\n",
       "    </tr>\n",
       "  </tbody>\n",
       "</table>\n",
       "</div>"
      ],
      "text/plain": [
       "                                                text\n",
       "0  WHO Health Emergencies Programme \\nSource: Wor...\n",
       "1                                                   \n",
       "2  European Centre for Disease Prevention and Con..."
      ]
     },
     "execution_count": 29,
     "metadata": {},
     "output_type": "execute_result"
    }
   ],
   "source": [
    "data.head()"
   ]
  },
  {
   "cell_type": "code",
   "execution_count": 30,
   "id": "84430c1f",
   "metadata": {},
   "outputs": [
    {
     "name": "stdout",
     "output_type": "stream",
     "text": [
      "\n",
      "Content of the DataFrame:\n",
      "0    WHO Health Emergencies Programme \\nSource: Wor...\n",
      "1                                                     \n",
      "2    European Centre for Disease Prevention and Con...\n",
      "Name: text, dtype: object\n",
      "\n"
     ]
    }
   ],
   "source": [
    "print(\"\\nContent of the DataFrame:\")\n",
    "print(data['text'])\n",
    "print()"
   ]
  },
  {
   "cell_type": "code",
   "execution_count": 31,
   "id": "d33499a1",
   "metadata": {},
   "outputs": [],
   "source": [
    "vectorizer = TfidfVectorizer()\n",
    "matrix =vectorizer.fit_transform(data['text'])"
   ]
  },
  {
   "cell_type": "code",
   "execution_count": 32,
   "id": "0a572075",
   "metadata": {},
   "outputs": [],
   "source": [
    "query = \"COVID-19 vaccines\"\n",
    "vector = vectorizer.transform([query])"
   ]
  },
  {
   "cell_type": "code",
   "execution_count": 33,
   "id": "0db35d7a",
   "metadata": {},
   "outputs": [],
   "source": [
    "similar_doc_index = cosine_similarity(vector,matrix).argsort()[-1][-1]\n",
    "document = data['text'][similar_doc_index]"
   ]
  },
  {
   "cell_type": "code",
   "execution_count": 23,
   "id": "b681bc18",
   "metadata": {},
   "outputs": [
    {
     "name": "stdout",
     "output_type": "stream",
     "text": [
      "Most relevant document:\n",
      "WHO Health Emergencies Programme \n",
      "Source: World Health Organization \n",
      "Source: World Health Organization \n",
      "Changes in population due to migration, birth or death may not be accurately reflected in latest population estimates. If a country has seen increasing migration trends or if a national population statistic is lower than the count recorded in statistical calculations, it can result in a vaccination coverage percentage greater than 100%.\n",
      " Changes in population due to migration, birth or death may not be accurately reflected in latest population estimates. If a country has seen increasing migration trends or if a national population statistic is lower than the count recorded in statistical calculations, it can result in a vaccination coverage percentage greater than 100%. Number of doses administered in a country, area, or territory, regardless of if they have been administered as part of a primary series or as booster/additional doses. COVID-19 vaccination data are collected via WHO regional office-specific systems for monitoring COVID-19 vaccination uptake. These data are pooled from numerous sources, including direct reports from Member States, WHO review of publicly available official data, or data collected and published by third-party sites. Data published by third-party sites have not been validated by WHO, and WHO cannot comment on accuracy or completeness. Differences in counts may occur compared to other sources, due to different inclusion criteria and data cut-off times. Estimated populations and projections are drawn from: *Total population for France has been adjusted to account for the following overseas territories (French Guiana, Guadeloupe, Martinique, Mayotte, Réunion, Saint Martin). Where multiple vaccines are used in a country, are, or territory, the start date displayed is equivalent to start date of the first vaccine product introduced. Suspensions (temporary or otherwise) of vaccination rollout are not taken into\n",
      "consideration. The information contained in this dashboard does not in any way imply endorsement, certification, warranty of fitness, or recommendation by WHO of any company or of any vaccine or other product for any purpose and does not imply preference\n",
      "over vaccines or other products of a similar nature that are not mentioned. WHO furthermore does not warrant that the vaccines or other products listed are of acceptable quality, have obtained regulatory approval in any country, or\n",
      "that their use is otherwise in accordance with the national laws and regulations of any country, including but not limited to patent laws. The inclusion of vaccines or other products in these analyses and underlying datasets does not\n",
      "imply any approval by WHO of the vaccines or other products in question (which is the sole prerogative of national authorities). Attribution 4.0 International (CC BY 4.0) The World Health Organization (“WHO”) encourages public access and use of the data that it collects and publishes on its web site data.who.int. The data are organized in datasets and made available in machine-readable format\n",
      "(“Datasets”). The Datasets have been compiled from data provided by WHO’s Member States under the WHO policy on the use and sharing of data collected by WHO in Member States outside the context of public health emergencies. Use of the data derived from the Datasets, which may appear in formats such as tables and charts, is also subject to these Terms and Conditions. Datasets may include data describing the Dataset called “Metadata”. If any datasets\n",
      "are credited to a source other than WHO, then those materials are not covered by these Terms and Conditions, and permission should be sought from the source provided. You are responsible for determining if this is the case, and if\n",
      "so, you are responsible for obtaining any necessary permission from the sources indicated. The risk of claims resulting from infringement of any third-party-owned component in the materials rests solely with you. You may use our application programming interfaces (“APIs”) to facilitate access to the Datasets, whether through a separate web site or through another type of software application. By using the Datasets or any presentations\n",
      "of data derived from them, or by using our APIs in connection with the Datasets, you agree to be bound by these Terms and Conditions, as may be amended from time to time by WHO at its sole discretion. Unless specifically indicated otherwise, these Datasets are provided to you under a Creative Commons Attribution 4.0 International License (CC BY 4.0), with the additional terms below. The basic terms applicable to the CC BY 4.0 license\n",
      "may be accessed here. By downloading or using the Datasets, you agree to comply with the terms of the CC BY 4.0 license, as well as the following mandatory and binding addition: Any dispute relating to the interpretation or application of this license shall, unless amicably settled, be subject to conciliation. In the event of failure of the latter, the dispute shall be settled by arbitration. The arbitration shall\n",
      "be conducted in accordance with the modalities to be agreed upon by the parties or, in the absence of agreement, with the UNCITRAL Arbitration Rules. The parties shall accept the arbitral award as final. You shall not attempt to de-anonymise the Datasets or use the Datasets in a manner that falsifies or misrepresents their content. You shall not, in connection with your use of the Datasets published on data.who.int, state or imply that WHO endorses, or is affiliated with, you, or that WHO endorses your use of data.who.int, or any content, output, or analysis resulting\n",
      "from or related to the data.who.int, or any entity, organization, company, product or services. World Health Organization 2023 data.who.int, WHO Coronavirus (COVID-19) dashboard > Vaccines [Dashboard]. https://data.who.int/dashboards/covid19/vaccines WHO reserves the right at any time and from time to time to modify or discontinue, temporarily or permanently, the Datasets, or any means of accessing or utilizing the Datasets with or without prior notice to you. MapsThe designations employed and the presentation of the material in this publication do not imply the expression of any opinion whatsoever on the part of WHO concerning the legal status of any country, territory,\n",
      "city or area or of its authorities, or concerning the delimitation of its frontiers or boundaries. Dotted and dashed lines on maps represent approximate border lines for which there may not yet be full agreement. All references to Kosovo should be understood to be in the context of the United Nations Security Council resolution 1244 (1999). A dispute exists between the Governments of Argentina and the United Kingdom of Great Britain and Northern Ireland concerning sovereignty over the Falkland Islands (Malvinas). The mention of specific companies or of certain manufacturers’ products does not imply that they are endorsed or recommended by WHO in preference to others of a similar nature that are not mentioned. Errors and omissions excepted,\n",
      "the names of proprietary products are distinguished by initial capital letters. All reasonable precautions have been taken by WHO to verify the accuracy of the Datasets. However, the Datasets are being provided without warranty of any kind, either expressed or implied. You will be solely responsible for your use of\n",
      "the Datasets. In no event shall WHO be liable for any damages arising from such use. For full disclaimers, terms of use and your indemnification of WHO, please visit Terms and Conditions.\n"
     ]
    }
   ],
   "source": [
    "print(\"Most relevant document:\")\n",
    "print(document)"
   ]
  },
  {
   "cell_type": "code",
   "execution_count": null,
   "id": "a54c4099",
   "metadata": {},
   "outputs": [],
   "source": []
  }
 ],
 "metadata": {
  "kernelspec": {
   "display_name": "Python 3 (ipykernel)",
   "language": "python",
   "name": "python3"
  },
  "language_info": {
   "codemirror_mode": {
    "name": "ipython",
    "version": 3
   },
   "file_extension": ".py",
   "mimetype": "text/x-python",
   "name": "python",
   "nbconvert_exporter": "python",
   "pygments_lexer": "ipython3",
   "version": "3.11.5"
  }
 },
 "nbformat": 4,
 "nbformat_minor": 5
}
